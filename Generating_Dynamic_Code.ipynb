{
  "cells": [
    {
      "cell_type": "markdown",
      "metadata": {
        "id": "g32rJbzJxSR_"
      },
      "source": [
        "Concerns:\n",
        "- Are there types other than \"ECUC-NUMERICAL-PARAM-VALUE\"?\n",
        "- Edit the headers"
      ]
    },
    {
      "cell_type": "markdown",
      "metadata": {
        "id": "v8hO_njuH4mn"
      },
      "source": [
        "Notes to Mira:\n",
        "- Can we make all the subcontainers arrays?\n",
        "- Can we change the naming convention of the structs?"
      ]
    },
    {
      "cell_type": "code",
      "execution_count": 3,
      "metadata": {
        "id": "MeSrIK14dw3E"
      },
      "outputs": [
        {
          "ename": "ModuleNotFoundError",
          "evalue": "No module named 'lxml'",
          "output_type": "error",
          "traceback": [
            "\u001b[0;31m---------------------------------------------------------------------------\u001b[0m",
            "\u001b[0;31mModuleNotFoundError\u001b[0m                       Traceback (most recent call last)",
            "\u001b[1;32m/home/mira/Thesis/AI-based-configuration-and-IDE-Java-based-tool-for-AUTOSAR-projects/Generating_Dynamic_Code.ipynb Cell 3\u001b[0m line \u001b[0;36m<cell line: 1>\u001b[0;34m()\u001b[0m\n\u001b[0;32m----> <a href='vscode-notebook-cell:/home/mira/Thesis/AI-based-configuration-and-IDE-Java-based-tool-for-AUTOSAR-projects/Generating_Dynamic_Code.ipynb#W2sZmlsZQ%3D%3D?line=0'>1</a>\u001b[0m \u001b[39mfrom\u001b[39;00m \u001b[39mlxml\u001b[39;00m \u001b[39mimport\u001b[39;00m etree\n\u001b[1;32m      <a href='vscode-notebook-cell:/home/mira/Thesis/AI-based-configuration-and-IDE-Java-based-tool-for-AUTOSAR-projects/Generating_Dynamic_Code.ipynb#W2sZmlsZQ%3D%3D?line=1'>2</a>\u001b[0m \u001b[39mfrom\u001b[39;00m \u001b[39mcollections\u001b[39;00m \u001b[39mimport\u001b[39;00m defaultdict\n",
            "\u001b[0;31mModuleNotFoundError\u001b[0m: No module named 'lxml'"
          ]
        }
      ],
      "source": [
        "from lxml import etree\n",
        "from collections import defaultdict"
      ]
    },
    {
      "cell_type": "code",
      "execution_count": null,
      "metadata": {
        "id": "7VCZfYHj-bbV"
      },
      "outputs": [],
      "source": [
        "# Global Varialbles\n",
        "cont_cnt = defaultdict(int)"
      ]
    },
    {
      "cell_type": "code",
      "execution_count": null,
      "metadata": {
        "id": "34NDzvM2KDgK"
      },
      "outputs": [],
      "source": [
        "# Writing the header\n",
        "def init():\n",
        "  text = '''/*====================================================================================================================*\\\\\n",
        "    Include headers\n",
        "\\\\*====================================================================================================================*/\n",
        "/* [SWS_CanNm_00326] */\n",
        "#include \"CanNm.h\"\n",
        "\n",
        "/*====================================================================================================================*\\\\\n",
        "    Object Initialization\n",
        "\\\\*====================================================================================================================*/\n",
        "\n",
        "'''\n",
        "\n",
        "# Open the file in write mode. If the file does not exist, it will be created.\n",
        "  with open(\"temp.h\", \"w\") as file:\n",
        "      file.write(text)"
      ]
    },
    {
      "cell_type": "code",
      "execution_count": null,
      "metadata": {
        "id": "STeY4u9IqOHE"
      },
      "outputs": [],
      "source": [
        "# Parsing the ARXML\n",
        "def get_container(main_cont, my_name):\n",
        "\n",
        "  # print(main_cont)\n",
        "  # print(my_name)\n",
        "\n",
        "  # Getting the params and save them in a map\n",
        "  param_mp = {} # the parameter and its value\n",
        "  params = main_cont.findall('./autosar:PARAMETER-VALUES', namespaces=namespaces)\n",
        "  if (len(params) > 0):\n",
        "    params = params[0]\n",
        "    for param in params.findall('./autosar:ECUC-NUMERICAL-PARAM-VALUE', namespaces=namespaces):\n",
        "      k = param.find('./autosar:DEFINITION-REF', namespaces=namespaces).text\n",
        "      k = k.split('/')[-1]\n",
        "      v = param.find('./autosar:VALUE', namespaces=namespaces).text\n",
        "      param_mp[k] = v\n",
        "\n",
        "  # Getting the subcontainers\n",
        "  cont_mp = {}\n",
        "  conts = main_cont.findall('./autosar:SUB-CONTAINERS', namespaces=namespaces)\n",
        "  if (len(conts) > 0):\n",
        "    conts = conts[0]\n",
        "    for cont in conts.findall('./autosar:ECUC-CONTAINER-VALUE', namespaces=namespaces):\n",
        "      k = cont.find('./autosar:SHORT-NAME', namespaces=namespaces).text\n",
        "      print(k)\n",
        "      k = k.split('_', 1)[0]\n",
        "      cont_cnt[k] += 1\n",
        "      cont_name = k + \"_\" + str(cont_cnt[k])\n",
        "      if k not in cont_mp:\n",
        "            cont_mp[k] = []\n",
        "      cont_mp[k].append(cont_name)\n",
        "      get_container(cont, cont_name)\n",
        "\n",
        "  # Printing the instantiation of the object\n",
        "  f = 0\n",
        "  struct_name = my_name.split('_', 1)[0]\n",
        "  output_string = f\"{struct_name}* {my_name} = &({struct_name}) {{ \\n\"\n",
        "  # Params\n",
        "  for key, value in param_mp.items():\n",
        "    if f == 0:\n",
        "      f = 1\n",
        "    else:\n",
        "      output_string += \", \\n\"\n",
        "    output_string += \"\\t\\t\\t.\" + key[5:] + \" = \" + value\n",
        "  # Containers\n",
        "  for key, values in cont_mp.items():\n",
        "    if f == 0:\n",
        "      f = 1\n",
        "    else:\n",
        "      output_string += \", \"  # Subsequent items start with comma\n",
        "    output_string += \"\\n\\t\\t\\t.\" + key + \" = {\"\n",
        "    fp = 0\n",
        "    for value in values:\n",
        "      if fp == 0:\n",
        "        fp = 1\n",
        "      else:\n",
        "        output_string += \", \"\n",
        "      output_string += value\n",
        "    output_string += \" } \"\n",
        "\n",
        "  output_string += \" };\"\n",
        "  output_string += \"\\n\"\n",
        "\n",
        "  with open(\"dynamic.c\", \"a\") as file:\n",
        "      file.write(output_string)"
      ]
    },
    {
      "cell_type": "code",
      "execution_count": null,
      "metadata": {
        "colab": {
          "base_uri": "https://localhost:8080/"
        },
        "id": "fdwRtYo5eQ_x",
        "outputId": "06bfb061-67ba-4ade-929f-fcb4fdef82d3"
      },
      "outputs": [
        {
          "name": "stdout",
          "output_type": "stream",
          "text": [
            "CanNmChannelConfig\n",
            "CanNmRxPdu\n",
            "CanNmTxPdu\n",
            "CanNmUserDataTxPdu\n",
            "CanNmPnInfo\n",
            "CanNmPnFilterMaskByte\n",
            "CanNmPnFilterMaskByte_000\n"
          ]
        }
      ],
      "source": [
        "# The main fucntion\n",
        "file_path = 'CanNm_Template.arxml'\n",
        "# Parse the ARXML file\n",
        "tree = etree.parse(file_path)\n",
        "root = tree.getroot()\n",
        "\n",
        "# Define the namespaces used in the XML document\n",
        "namespaces = {'autosar': 'http://autosar.org/schema/r4.0'}\n",
        "\n",
        "# Navigate to each ELEMENTS element\n",
        "all_containers = root.findall('.//autosar:CONTAINERS', namespaces=namespaces)\n",
        "init()\n",
        "for elements in all_containers:\n",
        "    ecuc_container_values = elements.findall('./autosar:ECUC-CONTAINER-VALUE', namespaces=namespaces)\n",
        "    for ecuc_container in ecuc_container_values:\n",
        "      k = ecuc_container.find('./autosar:SHORT-NAME', namespaces=namespaces).text\n",
        "      cont_cnt[k] += 1\n",
        "      cont_name = k + \"_\" + str(cont_cnt[k])\n",
        "      get_container(ecuc_container, cont_name)"
      ]
    }
  ],
  "metadata": {
    "colab": {
      "provenance": []
    },
    "kernelspec": {
      "display_name": "Python 3",
      "name": "python3"
    },
    "language_info": {
      "codemirror_mode": {
        "name": "ipython",
        "version": 3
      },
      "file_extension": ".py",
      "mimetype": "text/x-python",
      "name": "python",
      "nbconvert_exporter": "python",
      "pygments_lexer": "ipython3",
      "version": "3.8.10"
    }
  },
  "nbformat": 4,
  "nbformat_minor": 0
}
