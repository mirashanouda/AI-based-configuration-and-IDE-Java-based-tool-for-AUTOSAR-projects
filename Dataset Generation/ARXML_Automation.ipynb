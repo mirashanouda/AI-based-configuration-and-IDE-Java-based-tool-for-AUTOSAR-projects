{
  "cells": [
    {
      "cell_type": "markdown",
      "metadata": {
        "id": "e6ewqa58M7X7"
      },
      "source": [
        "## Importing the elementTree library and initializing the global variables"
      ]
    },
    {
      "cell_type": "code",
      "execution_count": null,
      "metadata": {
        "id": "ojrGV-pxLll9"
      },
      "outputs": [],
      "source": [
        "import xml.etree.ElementTree as ET\n",
        "from lxml import etree"
      ]
    },
    {
      "cell_type": "code",
      "execution_count": 2,
      "metadata": {
        "id": "xFj-aDbPGNn2"
      },
      "outputs": [],
      "source": [
        "def initialize(et_elements):\n",
        "  AUTOSAR = ET.Element(\"AUTOSAR\")\n",
        "  AUTOSAR.set(\"xmlns\", \"http://autosar.org/schema/r4.0\")\n",
        "  AUTOSAR.set(\"xmlns:xsi\", \"http://www.w3.org/2001/XMLSchema-instance\")\n",
        "  AUTOSAR.set(\"xsi:schemaLocation\", \"http://autosar.org/schema/r4.0 AUTOSAR_00046.xsd\")\n",
        "\n",
        "  AR_PACKAGES = ET.Element(\"AR-PACKAGES\")\n",
        "  AR_PACKAGE = ET.Element(\"AR-PACKAGE\")\n",
        "\n",
        "  AUTOSAR.append(AR_PACKAGES)\n",
        "  AR_PACKAGES.append(AR_PACKAGE)\n",
        "\n",
        "  AUTOSAR_CONF = ET.SubElement(AR_PACKAGE, \"SHORT-NAME\")\n",
        "  AUTOSAR_CONF.text = \"AutosarConfigurator\"\n",
        "\n",
        "  ELEMENTS = ET.Element(\"ELEMENTS\")\n",
        "  AR_PACKAGE.append(ELEMENTS)\n",
        "\n",
        "  ECUC_MODULE_CONFIGURATION_VALUES = ET.Element(\"ECUC-MODULE-CONFIGURATION-VALUES\")\n",
        "  ECUC_MODULE_CONFIGURATION_VALUES.set(\"UUID\", \"88315b75-2e55-4e07-8a67-e958b2d4694f\")\n",
        "  ELEMENTS.append(ECUC_MODULE_CONFIGURATION_VALUES)\n",
        "\n",
        "  CanNm = ET.SubElement(ECUC_MODULE_CONFIGURATION_VALUES, \"SHORT-NAME\")\n",
        "  CanNm.text = \"CanNm\"\n",
        "\n",
        "  DEFINITION_REF = ET.SubElement(ECUC_MODULE_CONFIGURATION_VALUES, \"DEFINITION-REF\")\n",
        "  DEFINITION_REF.text = \"/AUTOSAR/EcucDefs/CanNm\"\n",
        "  DEFINITION_REF.set(\"DEST\", \"ECUC-MODULE-DEF\")\n",
        "\n",
        "  IMPLEMENTATION_CONFIG_VARIANT = ET.SubElement(ECUC_MODULE_CONFIGURATION_VALUES, \"IMPLEMENTATION-CONFIG-VARIANT\")\n",
        "  IMPLEMENTATION_CONFIG_VARIANT.text = \"VARIANT-POST-BUILD\"\n",
        "\n",
        "  MODULE_DESCRIPTION_REF = ET.SubElement(ECUC_MODULE_CONFIGURATION_VALUES, \"MODULE_DESCRIPTION_REF\")\n",
        "  MODULE_DESCRIPTION_REF.text = \"/AUTOSAR/EcucDefs/CanNm\"\n",
        "  MODULE_DESCRIPTION_REF.set(\"DEST\", \"BSW-IMPLEMENTATION\")\n",
        "\n",
        "  et_elements.append(ET.Element(\"CONTAINERS\"))\n",
        "  ECUC_MODULE_CONFIGURATION_VALUES.append(et_elements[0])\n",
        "\n",
        "  return AUTOSAR\n"
      ]
    },
    {
      "cell_type": "code",
      "execution_count": 3,
      "metadata": {
        "id": "WlBRQhoWTJhR"
      },
      "outputs": [],
      "source": [
        "def final_out(file_name, et_ele):\n",
        "  #et_ele = AUTOSAR\n",
        "  tree = ET.ElementTree(et_ele)\n",
        "\n",
        "  short_tab = \"\\t\".expandtabs(2)\n",
        "  ET.indent(tree, space=short_tab, level=0)\n",
        "  with open (file_name, \"wb\") as files:\n",
        "    tree.write(files)"
      ]
    },
    {
      "cell_type": "markdown",
      "metadata": {
        "id": "KoESbR5TNM8q"
      },
      "source": [
        "## Implementing the main classes of the generator"
      ]
    },
    {
      "cell_type": "markdown",
      "metadata": {
        "id": "AwWWEA8gNyup"
      },
      "source": [
        "- The tag class:\n",
        "\n",
        "- The parameter class:\n",
        "\n",
        "- The container classes:"
      ]
    },
    {
      "cell_type": "code",
      "execution_count": 4,
      "metadata": {
        "id": "IuUetcAlT4Dt"
      },
      "outputs": [],
      "source": [
        "class tag:\n",
        "    name = \"\"\n",
        "    text = \"\"\n",
        "    is_sub = -1  # 0 -> element, 1 -> subelement\n",
        "    in_tag_value = [\"\", \"\"]\n",
        "    et_element_idx = -1  # the index of the et_element in the global array\n",
        "    par = -1  # the parent index to be used in the case of subelement\n",
        "\n",
        "    def __init__(self):\n",
        "      name = \"\"\n",
        "\n",
        "    def declare(self): # mostly if definition-ref or value\n",
        "        # Assumes all attributes are set\n",
        "        if self.is_sub == 0:\n",
        "            et_elements.append(ET.Element(self.name))\n",
        "            self.et_element_idx = len(et_elements) - 1\n",
        "\n",
        "            if self.text != \"\":\n",
        "                et_elements[self.et_element_idx].text = self.text\n",
        "\n",
        "            if self.in_tag_value[0] != \"\":\n",
        "                et_elements[self.et_element_idx].set(self.in_tag_value[0], self.in_tag_value[1])\n",
        "\n",
        "        else:\n",
        "            et_subelements.append(ET.SubElement(et_elements[self.par], self.name))\n",
        "            self.et_element_idx = len(et_subelements) - 1\n",
        "\n",
        "            if self.text != \"\":\n",
        "                et_subelements[self.et_element_idx].text = self.text\n",
        "\n",
        "            if self.in_tag_value[0] != \"\":\n",
        "                et_subelements[self.et_element_idx].set(self.in_tag_value[0], self.in_tag_value[1])\n",
        "\n",
        "    def get_name(self):\n",
        "        return self.name\n",
        "\n",
        "    def set_name(self, value):\n",
        "        self.name = value\n",
        "\n",
        "    def get_text(self):\n",
        "        return self.text\n",
        "\n",
        "    def set_text(self, value):\n",
        "        self.text = value\n",
        "\n",
        "    def get_is_sub(self):\n",
        "        return self.is_sub\n",
        "\n",
        "    def set_is_sub(self, value):\n",
        "        self.is_sub = value\n",
        "\n",
        "    def get_in_tag_value(self):\n",
        "        return self.in_tag_value\n",
        "\n",
        "    def set_in_tag_value(self, value):\n",
        "        self.in_tag_value = value\n",
        "\n",
        "    def get_et_element_idx(self):\n",
        "        return self.et_element_idx\n",
        "\n",
        "    def set_et_element_idx(self, value):\n",
        "        self.et_element_idx = value\n",
        "\n",
        "    def get_par(self):\n",
        "        return self.par\n",
        "\n",
        "    def set_par(self, value):\n",
        "        self.par = value"
      ]
    },
    {
      "cell_type": "markdown",
      "metadata": {
        "id": "OKQHDJsxbZ0_"
      },
      "source": [
        "How to use the parameter class:\n",
        "- Set def_name, def_ref, value\n",
        "- Call the declare_parameter function"
      ]
    },
    {
      "cell_type": "code",
      "execution_count": 5,
      "metadata": {
        "id": "MkZpMdaqsnFK"
      },
      "outputs": [],
      "source": [
        "class parameter(tag):\n",
        "    def_name = \"\" # the actual parameter name\n",
        "    def_ref = tag()\n",
        "    value = tag()\n",
        "    param_type = \"\"  # float or boolean string\n",
        "    par_cont = -1 # index of parent in the array of containers\n",
        "\n",
        "    def declare_parameter(self):  # adds the parameter to the file\n",
        "        # assumes par_cont, param_type, def_name, value.text and self.name is set\n",
        "        self.is_sub = 0\n",
        "        super().declare()\n",
        "\n",
        "        self.def_ref.set_name(\"DEFINTION-REF\")\n",
        "        self.def_ref.set_par(self.et_element_idx)\n",
        "        def_ref_in_tag_value = \"ECUC-\" + self.param_type + \"-PARAM-DEF\"\n",
        "        self.def_ref.set_in_tag_value([\"DEST\", def_ref_in_tag_value])\n",
        "\n",
        "        # now do the dfs that makes the string of definition ref\n",
        "        temp_text = \"/AUTOSAR/EcucDefs/CanNm/\"\n",
        "        # cur = self.par_cont\n",
        "        # ancestors = []\n",
        "        # while cur != -1:\n",
        "        #     ancestors.append(cur)\n",
        "        #     cur = containers[cur].par_cont\n",
        "\n",
        "        # ancestors.reverse()\n",
        "        # for x in ancestors:\n",
        "        #     temp_text += \"/\" + containers[x].short_name.text\n",
        "        temp_text += self.def_name\n",
        "\n",
        "        self.def_ref.set_text(temp_text)\n",
        "        self.def_ref.set_is_sub(1)\n",
        "        self.def_ref.declare()\n",
        "\n",
        "        self.value.set_name(\"VALUE\")\n",
        "        self.value.set_is_sub(1)\n",
        "        self.value.set_par(self.et_element_idx)\n",
        "        self.value.declare()\n",
        "\n",
        "    def get_def_name(self):\n",
        "        return self.def_name\n",
        "\n",
        "    def set_def_name(self, value):\n",
        "        self.def_name = value\n",
        "\n",
        "    def get_param_value(self):\n",
        "        return self.param_value\n",
        "\n",
        "    def set_param_value(self, value):\n",
        "        self.param_value = value\n",
        "\n",
        "    def get_par_cont(self):\n",
        "        return self.par_cont\n",
        "\n",
        "    def set_par_cont(self, value):\n",
        "        self.par_cont = value"
      ]
    },
    {
      "cell_type": "markdown",
      "metadata": {
        "id": "4zQXOJYCSVsH"
      },
      "source": [
        "How to use:\n",
        "- Instantiate an object\n",
        "- Set the name, text, in_tag_value\n",
        "- Set the short_name and def_ref using the setters"
      ]
    },
    {
      "cell_type": "code",
      "execution_count": 10,
      "metadata": {
        "id": "jNGezNofhPLA"
      },
      "outputs": [],
      "source": [
        "class container(tag):\n",
        "  short_name = tag()\n",
        "  def_ref = tag()\n",
        "  #children = [] # array of integers of containers\n",
        "  container_idx = -1\n",
        "  par_cont = -1 # parent as a container\n",
        "  sub_cont_idx = -1\n",
        "  param_val_idx = -1\n",
        "  has_param_val = 0\n",
        "  has_sub_cont = 0\n",
        "\n",
        "  def declare_container(self):\n",
        "    # assumes short_name.text is set\n",
        "    # assumes children and parameters are added\n",
        "    # (where parameters have their dependencies set except for par_cont and not declared)\n",
        "    # (and children have their dependencies set except for par_cont and not declared)\n",
        "    # assumes in_tag_value are given (the set value is UUID)\n",
        "    # assumes par_cont and container_idx are given\n",
        "    self.is_sub = 0\n",
        "    self.name = \"ECUC-CONTAINER-VALUE\"\n",
        "    self.declare()\n",
        "\n",
        "    # create the short_name\n",
        "    self.short_name.set_name(\"SHORT-NAME\")\n",
        "    self.short_name.set_is_sub(1)\n",
        "    self.short_name.set_par(self.et_element_idx)\n",
        "    self.short_name.declare()\n",
        "\n",
        "    # create the def-ref\n",
        "    self.def_ref.set_name(\"DEFINITION-REF\")\n",
        "    self.def_ref.set_in_tag_value([\"DEST\", \"ECUC-PARAM-CONF-CONTAINER-DEF\"])\n",
        "    self.def_ref.set_is_sub(1)\n",
        "    self.def_ref.set_par(self.et_element_idx)\n",
        "\n",
        "    temp_text = \"/AUTOSAR/EcucDefs/CanNm/\"\n",
        "    # cur = self.par_cont\n",
        "    # ancestors = []\n",
        "    # while cur != -1:\n",
        "    #     ancestors.append(cur)\n",
        "    #     cur = containers[cur].par_cont\n",
        "\n",
        "    # ancestors.reverse()\n",
        "    # for x in ancestors:\n",
        "    #     temp_text += containers[x].short_name.text\n",
        "    temp_text += self.short_name.text\n",
        "\n",
        "    self.def_ref.set_text(temp_text)\n",
        "    self.def_ref.declare()\n",
        "\n",
        "  def add_parameter(self, param):\n",
        "    if self.has_param_val == 0:\n",
        "      self.has_param_val = 1\n",
        "      self.param_val_idx = len(et_elements)\n",
        "      et_elements.append(ET.Element(\"PARAMETER-VALUES\"))\n",
        "      et_elements[self.et_element_idx].append(et_elements[self.param_val_idx])\n",
        "    et_elements[self.param_val_idx].append(et_elements[param.et_element_idx])\n",
        "\n",
        "  def add_child(self, child):\n",
        "    if self.has_sub_cont == 0:\n",
        "      self.has_sub_cont = 1\n",
        "      self.sub_cont_idx = len(et_elements)\n",
        "      et_elements.append(ET.Element(\"SUB-CONTAINERS\"))\n",
        "      et_elements[self.et_element_idx].append(et_elements[self.sub_cont_idx])\n",
        "    et_elements[self.sub_cont_idx].append(et_elements[child.et_element_idx])\n",
        "\n",
        "  def get_par_cont(self):\n",
        "    return self.par_cont\n",
        "\n",
        "  def set_par_cont(self, value):\n",
        "    self.par_cont = value\n",
        "\n",
        "  def get_container_idx(self):\n",
        "    return self.container_idx\n",
        "\n",
        "  def set_container_idx(self, value):\n",
        "    self.container_idx = value"
      ]
    },
    {
      "cell_type": "markdown",
      "metadata": {
        "id": "SUaUmThmNhjx"
      },
      "source": [
        "## Unit testing of every class individually"
      ]
    },
    {
      "cell_type": "markdown",
      "metadata": {
        "id": "zdmuSGGkb4qG"
      },
      "source": [
        "Testing the parameter class"
      ]
    },
    {
      "cell_type": "code",
      "execution_count": 8,
      "metadata": {
        "id": "xHymPYSPxFBU"
      },
      "outputs": [],
      "source": [
        "# Reseting the global variables\n",
        "et_elements = []\n",
        "et_subelements = []\n",
        "AS = initialize(et_elements)\n",
        "\n",
        "# Adding the parameter\n",
        "x = parameter()\n",
        "x.def_name = \"CanNmMainFunctionPeriod\"\n",
        "x.name = \"ECUC-NUMERICAL-PARAM-VALUE\"\n",
        "x.param_type = \"FLOAT\"\n",
        "x.value.set_text(\"False\")\n",
        "x.declare_parameter()\n",
        "\n",
        "y = parameter()\n",
        "y.def_name = \"CanNmBusLoadReductionEnabled\"\n",
        "y.name = \"ECUC-NUMERICAL-PARAM-VALUE\"\n",
        "y.param_type = \"BOOLEAN\"\n",
        "y.value.set_text(\"False\")\n",
        "y.declare_parameter()\n",
        "\n",
        "# Appending the containers to the prefix of the file\n",
        "et_elements[0].append(et_elements[x.et_element_idx])\n",
        "et_elements[0].append(et_elements[y.et_element_idx])\n",
        "\n",
        "final_out(\"parameter_testing2.xml\", AS)"
      ]
    },
    {
      "cell_type": "markdown",
      "metadata": {
        "id": "3N_PDgdPb7lR"
      },
      "source": [
        "Testing the container class"
      ]
    },
    {
      "cell_type": "code",
      "execution_count": 13,
      "metadata": {
        "id": "-dR3uM53kKOa"
      },
      "outputs": [],
      "source": [
        "# Reseting the global variables\n",
        "et_elements = []\n",
        "et_subelements = []\n",
        "AS = initialize(et_elements)\n",
        "\n",
        "# Adding the first container with its parameters\n",
        "c = container()\n",
        "c.short_name.set_text(\"CanNmGlobalConfig\")\n",
        "c.set_in_tag_value([\"UUID\", \"e40d0e8a-816a-426a-9159-e229afbced6d\"])\n",
        "c.declare_container()\n",
        "x = parameter()\n",
        "x.def_name = \"CanNmMainFunctionPeriod\"\n",
        "x.name = \"ECUC-NUMERICAL-PARAM-VALUE\"\n",
        "x.param_type = \"FLOAT\"\n",
        "x.value.set_text(\"False\")\n",
        "x.declare_parameter()\n",
        "c.add_parameter(x)\n",
        "\n",
        "y = parameter()\n",
        "y.def_name = \"CanNmBusLoadReductionEnabled\"\n",
        "y.name = \"ECUC-NUMERICAL-PARAM-VALUE\"\n",
        "y.param_type = \"BOOLEAN\"\n",
        "y.value.set_text(\"False\")\n",
        "y.declare_parameter()\n",
        "c.add_parameter(y)\n",
        "\n",
        "# Adding the subcontainer with its parameters\n",
        "sub_c = container()\n",
        "sub_c.short_name.set_text(\"CanNmChannelConfig\")\n",
        "sub_c.set_in_tag_value([\"UUID\", \"2cdaf9a9-575f-4cb1-9a76-d0b312a26cb7\"])\n",
        "sub_c.declare_container()\n",
        "xx = parameter()\n",
        "xx.def_name = \"CanNmImmediateNmTransmissions\"\n",
        "xx.name = \"ECUC-NUMERICAL-PARAM-VALUE\"\n",
        "xx.param_type = \"FLOAT\"\n",
        "xx.value.set_text(\"0\")\n",
        "xx.declare_parameter()\n",
        "sub_c.add_parameter(xx)\n",
        "c.add_child(sub_c)\n",
        "\n",
        "sub_sub_c = container()\n",
        "sub_sub_c.short_name.set_text(\"CanNmRxPdu\")\n",
        "sub_sub_c.set_in_tag_value([\"UUID\", \"5d588fa0-8eda-47a2-beb6-796a55542c55\"])\n",
        "sub_sub_c.declare_container()\n",
        "yy = parameter()\n",
        "yy.def_name = \"CanNmImmediateNmTransmissions\"\n",
        "yy.name = \"ECUC-NUMERICAL-PARAM-VALUE\"\n",
        "yy.param_type = \"FLOAT\"\n",
        "yy.value.set_text(\"0\")\n",
        "yy.declare_parameter()\n",
        "sub_c.add_parameter(yy)\n",
        "sub_c.add_child(sub_sub_c)\n",
        "\n",
        "# Appending the containers to the prefix of the file\n",
        "et_elements[0].append(et_elements[c.et_element_idx])\n",
        "\n",
        "final_out(\"containers_testing2.xml\", AS)"
      ]
    },
    {
      "cell_type": "markdown",
      "metadata": {
        "id": "Uk5CvNFOptWX"
      },
      "source": [
        "## Required Data Structures:"
      ]
    },
    {
      "cell_type": "markdown",
      "metadata": {
        "id": "ATETc8hzqyex"
      },
      "source": [
        "- Adjacency list for the containers dependency\n",
        "- Map for indexing the containers names\n",
        "- Map for saving the paramenters of each container"
      ]
    },
    {
      "cell_type": "code",
      "execution_count": null,
      "metadata": {
        "id": "D4lyXcMcvr5H"
      },
      "outputs": [],
      "source": [
        "class parameter_item:\n",
        "  def_name = \"\"\n",
        "  value = -1\n",
        "  data_type = \"\"\n",
        "  decl_name = \"\"\n",
        "  is_default = 1\n",
        "  start_range = 1\n",
        "  end_range = 1\n",
        "  lower_mult = -1\n",
        "  upper_mult = -1\n",
        "\n",
        "  def __init__(self, def_name, value, data_type, decl_name, is_default, start_range, end_range, lower_mult, upper_mult):\n",
        "    self.def_name = def_name\n",
        "    self.value = value\n",
        "    self.data_type = data_type\n",
        "    self.decl_name = decl_name\n",
        "    self.is_default = is_default\n",
        "    self.start_range = start_range\n",
        "    self.end_range = end_range\n",
        "    self.lower_mult = lower_mult\n",
        "    self.upper_mult = upper_mult"
      ]
    },
    {
      "cell_type": "code",
      "execution_count": null,
      "metadata": {
        "id": "QDpQ7hMl7HRc"
      },
      "outputs": [],
      "source": [
        "class container_item:\n",
        "  name = \"\"\n",
        "  UUID = \"\"\n",
        "  lower_mult = -1\n",
        "  upper_mult = -1\n",
        "\n",
        "  def __init__(self, name, UUID, lower_mult, upper_mult):\n",
        "    self.name = name\n",
        "    self.UUID = UUID\n",
        "    self.lower_mult = lower_mult\n",
        "    self.upper_mult = upper_mult"
      ]
    },
    {
      "cell_type": "code",
      "execution_count": null,
      "metadata": {
        "id": "_rIE2RV-hnxD"
      },
      "outputs": [],
      "source": [
        "container_def = []\n",
        "par = [-1] * 100000\n",
        "container_parameters = [[]]"
      ]
    },
    {
      "cell_type": "markdown",
      "metadata": {
        "id": "KgNluvAUgl3f"
      },
      "source": [
        "## Parsing the BSWMD"
      ]
    },
    {
      "cell_type": "code",
      "execution_count": null,
      "metadata": {
        "id": "xPkcKwV0hZmH"
      },
      "outputs": [],
      "source": [
        "file_path = 'CanNM_BSWMD.arxml'\n",
        "\n",
        "tree = etree.parse(file_path)\n",
        "root = tree.getroot()"
      ]
    },
    {
      "cell_type": "code",
      "execution_count": null,
      "metadata": {
        "id": "uuBueCJAjwoz"
      },
      "outputs": [],
      "source": [
        "def process_container(ecuc_container):\n",
        "  name = ecuc_container.find('./SHORT-NAME').text\n",
        "  LM = ecuc_container.find('./LOWER-MULTIPLICITY').text\n",
        "  UM = ecuc_container.find('./UPPER-MULTIPLICITY-INFINITE')\n",
        "  if UM is not None:\n",
        "    UM = 'inf'\n",
        "  else:\n",
        "    UM = ecuc_container.find('./UPPER-MULTIPLICITY').text\n",
        "  UUID = ecuc_container.get('UUID')\n",
        "  return name, UUID, LM, UM"
      ]
    },
    {
      "cell_type": "code",
      "execution_count": null,
      "metadata": {
        "id": "hpGGSXfnxjGA"
      },
      "outputs": [],
      "source": [
        "def dfs (ecuc_container, level, p):\n",
        "  for ecuc_container in ecuc_container.findall('./ECUC-PARAM-CONF-CONTAINER-DEF'):\n",
        "    name, UUID, LM, UM = process_container(ecuc_container)\n",
        "    c = container_item(name, UUID, LM, UM)\n",
        "    container_def.append(c)\n",
        "    idx = len(container_def) - 1\n",
        "    par[idx] = p\n",
        "    for sub_cont in ecuc_container.findall('SUB-CONTAINERS'):\n",
        "      dfs(sub_cont, level + 1, idx)"
      ]
    },
    {
      "cell_type": "code",
      "execution_count": null,
      "metadata": {
        "colab": {
          "base_uri": "https://localhost:8080/"
        },
        "id": "fSVLwxmLnnkI",
        "outputId": "8cb5eb9f-a194-4ab6-98c4-b432c0d37848"
      },
      "outputs": [
        {
          "name": "stdout",
          "output_type": "stream",
          "text": [
            "[<Element ECUC-PARAM-CONF-CONTAINER-DEF at 0x7cb4a0dde340>]\n"
          ]
        }
      ],
      "source": [
        "print(root.findall('./CONTAINERS')[0].findall('./ECUC-PARAM-CONF-CONTAINER-DEF'))"
      ]
    },
    {
      "cell_type": "code",
      "execution_count": null,
      "metadata": {
        "id": "SmVWvJiOgiY6"
      },
      "outputs": [],
      "source": [
        "containers = root.findall('./CONTAINERS')[0]\n",
        "dfs(containers, 0, -1)"
      ]
    },
    {
      "cell_type": "code",
      "execution_count": null,
      "metadata": {
        "colab": {
          "base_uri": "https://localhost:8080/"
        },
        "id": "NK3J69U70Z8l",
        "outputId": "2e1ac986-5765-4a5c-82d4-5197d5cf4475"
      },
      "outputs": [
        {
          "name": "stdout",
          "output_type": "stream",
          "text": [
            "7\n",
            "CanNmGlobalConfig\n",
            "CanNmChannelConfig\n",
            "CanNmRxPdu\n",
            "CanNmTxPdu\n",
            "CanNmUserDataTxPdu\n",
            "CanNmPnInfo\n",
            "CanNmPnFilterMaskByte\n"
          ]
        }
      ],
      "source": [
        "print(len(container_def))\n",
        "for elem in container_def:\n",
        "  print(elem.name)"
      ]
    },
    {
      "cell_type": "markdown",
      "metadata": {
        "id": "PS014_xlpmZg"
      },
      "source": [
        "## Generating the Dataset"
      ]
    },
    {
      "cell_type": "code",
      "execution_count": null,
      "metadata": {
        "id": "uIGfTwnxptzW"
      },
      "outputs": [],
      "source": []
    },
    {
      "cell_type": "markdown",
      "metadata": {
        "id": "Kh7H_jI96dav"
      },
      "source": [
        "## The Main function"
      ]
    },
    {
      "cell_type": "code",
      "execution_count": null,
      "metadata": {
        "id": "iPdI4zsW9E3p"
      },
      "outputs": [],
      "source": [
        "def print(container_num, mult):\n",
        "  xxx = initialize()\n",
        "\n",
        "  index1 = len(containers)\n",
        "  containers.append(container())\n",
        "  containers[index1].short_name.set_text(container_def[0].name)\n",
        "  containers[index1].set_in_tag_value([\"UUID\", \"a816306b-efbe-48b9-ab7f-bda718e857f3\"])\n",
        "  for par in container_parameters[0]:\n",
        "    p = parameter()\n",
        "    p.set_def_name(par.def_name)\n",
        "    p.value.set_text(par.value)\n",
        "    p.set_param_value(par.data_type)\n",
        "    p.set_name(\"ECUC-\" + par.decl_name + \"-PARAM-VALUE\")\n",
        "\n",
        "  index2 = len(containers)\n",
        "  containers.append(container())\n",
        "  containers[index2].short_name.set_text(container_def[1].name)\n",
        "  containers[index2].set_in_tag_value([\"UUID\", \"a816306b-efbe-48b9-ab7f-bda718e857f3\"])\n",
        "  # for par in container_parameters[1]:\n",
        "  #     p = parameter()\n",
        "  #     p.set_def_name(par.def_name)\n",
        "  #     p.value.set_text(par.value)\n",
        "  #     p.set_param_value(par.data_type)\n",
        "  #     p.set_name(\"ECUC-\" + par.decl_name + \"-PARAM-VALUE\")\n",
        "\n",
        "  index_list = []\n",
        "  for i in range(mult):\n",
        "    index_list.append(len(containers))\n",
        "    containers.append(container())\n",
        "    containers[index_list[i]].short_name.set_text(container_def[2].name)\n",
        "    containers[index_list[i]].set_in_tag_value([\"UUID\", \"a816306b-efbe-48b9-ab7f-bda718e857f3\"])\n",
        "    containers[index_list[i]].declare()\n",
        "    et_elements[containers[index2].et_element_idx].append(et_elements[containers[index_list[i]].et_element_idx])\n",
        "\n",
        "  containers[index2].declare()\n",
        "  et_elements[containers[index1].et_element_idx].append(et_elements[containers[index2].et_element_idx])\n",
        "\n",
        "  containers[index1].declare()\n",
        "  et_elements[0].append(et_elements[containers[index1].et_element_idx])\n",
        "\n",
        "  final_out(\"sample\" + str(mult) + \".xml\", xxx)"
      ]
    },
    {
      "cell_type": "code",
      "execution_count": null,
      "metadata": {
        "id": "t_cVZwI96kMR"
      },
      "outputs": [],
      "source": [
        "def main():\n",
        "  #for i in range(1, 7):\n",
        "  print(0, 4)\n",
        "\n",
        "if __name__ == \"__main__\":\n",
        "    main()\n"
      ]
    }
  ],
  "metadata": {
    "accelerator": "GPU",
    "colab": {
      "collapsed_sections": [
        "Kh7H_jI96dav"
      ],
      "gpuType": "T4",
      "provenance": []
    },
    "kernelspec": {
      "display_name": "Python 3",
      "name": "python3"
    },
    "language_info": {
      "codemirror_mode": {
        "name": "ipython",
        "version": 3
      },
      "file_extension": ".py",
      "mimetype": "text/x-python",
      "name": "python",
      "nbconvert_exporter": "python",
      "pygments_lexer": "ipython3",
      "version": "3.9.7"
    }
  },
  "nbformat": 4,
  "nbformat_minor": 0
}
